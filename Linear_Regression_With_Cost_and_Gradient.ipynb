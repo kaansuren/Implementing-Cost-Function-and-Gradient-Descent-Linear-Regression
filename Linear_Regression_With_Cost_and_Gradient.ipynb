{
  "nbformat": 4,
  "nbformat_minor": 0,
  "metadata": {
    "colab": {
      "provenance": []
    },
    "kernelspec": {
      "name": "python3",
      "display_name": "Python 3"
    },
    "language_info": {
      "name": "python"
    }
  },
  "cells": [
    {
      "cell_type": "code",
      "execution_count": 111,
      "metadata": {
        "id": "ddCB1LTi50v1"
      },
      "outputs": [],
      "source": [
        "import numpy as np\n",
        "import matplotlib.pyplot as plt\n",
        "import math"
      ]
    },
    {
      "cell_type": "code",
      "source": [
        "x_train = np.array([1.0, 2.0])\n",
        "y_train = np.array([300.0, 500.0])"
      ],
      "metadata": {
        "id": "XnAblDJk53RY"
      },
      "execution_count": 112,
      "outputs": []
    },
    {
      "cell_type": "code",
      "source": [
        "def compute_cost(x, y, w, b):\n",
        "  m = x.shape[0]\n",
        "  cost = 0\n",
        "  for i in range(m):\n",
        "    f_wb = (w * x[i]) + b\n",
        "    error = (f_wb - y[i]) ** 2\n",
        "    cost = cost + error\n",
        "  total_cost = cost * (1 / 2 * m)\n",
        "  return total_cost"
      ],
      "metadata": {
        "id": "CDhGss8m55T3"
      },
      "execution_count": 113,
      "outputs": []
    },
    {
      "cell_type": "code",
      "source": [
        "w=100\n",
        "b=200\n",
        "cost = compute_cost(x_train, y_train, w, b)\n",
        "print(cost)"
      ],
      "metadata": {
        "id": "e3c4-wBF5_mW",
        "colab": {
          "base_uri": "https://localhost:8080/"
        },
        "outputId": "661ab58e-efe4-47ca-9eee-ce41e064cc99"
      },
      "execution_count": 115,
      "outputs": [
        {
          "output_type": "stream",
          "name": "stdout",
          "text": [
            "10000.0\n"
          ]
        }
      ]
    },
    {
      "cell_type": "code",
      "source": [
        "def compute_gradient(x, y, w, b):\n",
        "  m = x.shape[0]\n",
        "  dj_dw = 0\n",
        "  dj_db = 0\n",
        "  for i in range(m):\n",
        "    f_wb = (w * x[i]) + b\n",
        "    dj_dw_i = (f_wb - y[i]) * x[i]\n",
        "    dj_db_i = f_wb - y[i]\n",
        "    dj_dw += dj_dw_i\n",
        "    dj_db += dj_db_i\n",
        "  dj_dw = dj_dw / m\n",
        "  dj_db = dj_db / m\n",
        "  return dj_dw, dj_db"
      ],
      "metadata": {
        "id": "DSKZQ56BwfSH"
      },
      "execution_count": 116,
      "outputs": []
    },
    {
      "cell_type": "code",
      "source": [
        "def gradient_descent(x, y, w_in, b_in, alpha, number_iterations, cost_function, gradient_function):\n",
        "  w = w_in\n",
        "  b = b_in\n",
        "  J_history = []\n",
        "  parameters_history = []\n",
        "  for i in range(number_iterations):\n",
        "    dj_dw, dj_db = gradient_function(x, y, w, b)\n",
        "    \n",
        "    b = b - alpha * dj_db\n",
        "    w = w - alpha * dj_dw\n",
        "\n",
        "    if i<10000:\n",
        "      J_history.append(cost_function(x, y, w, b))\n",
        "      parameters_history.append([w, b])\n",
        "    if i % math.ceil (number_iterations/10) == 0:\n",
        "      print(f\"Iteration {i:4}: Cost {J_history[-1]:0.2e} \",\n",
        "                  f\"dj_dw: {dj_dw: 0.3e}, dj_db: {dj_db: 0.3e}  \",\n",
        "                  f\"w: {w: 0.3e}, b:{b: 0.5e}\")\n",
        "  return w, b, J_history, parameters_history"
      ],
      "metadata": {
        "id": "R0AfqHkHybzx"
      },
      "execution_count": 119,
      "outputs": []
    },
    {
      "cell_type": "code",
      "source": [
        "w_init = 0\n",
        "b_init = 0\n",
        "iterations = 10000\n",
        "tmp_alpha = 1.0e-2\n",
        "\n",
        "w_final, b_final, J_hist, p_hist = gradient_descent(x_train, y_train, w_init, b_init, tmp_alpha, iterations, compute_cost, compute_gradient)\n",
        "print(f\"(w,b):({w_final:8.4f}, {b_final:8.4f})\")"
      ],
      "metadata": {
        "colab": {
          "base_uri": "https://localhost:8080/"
        },
        "id": "UnEvqdupzbd_",
        "outputId": "6083e848-feda-4ebc-b6c9-95247a90b596"
      },
      "execution_count": 120,
      "outputs": [
        {
          "output_type": "stream",
          "name": "stdout",
          "text": [
            "Iteration    0: Cost 3.17e+05  dj_dw: -6.500e+02, dj_db: -4.000e+02   w:  6.500e+00, b: 4.00000e+00\n",
            "Iteration 1000: Cost 1.37e+01  dj_dw: -3.712e-01, dj_db:  6.007e-01   w:  1.949e+02, b: 1.08228e+02\n",
            "Iteration 2000: Cost 3.17e+00  dj_dw: -1.789e-01, dj_db:  2.895e-01   w:  1.975e+02, b: 1.03966e+02\n",
            "Iteration 3000: Cost 7.37e-01  dj_dw: -8.625e-02, dj_db:  1.396e-01   w:  1.988e+02, b: 1.01912e+02\n",
            "Iteration 4000: Cost 1.71e-01  dj_dw: -4.158e-02, dj_db:  6.727e-02   w:  1.994e+02, b: 1.00922e+02\n",
            "Iteration 5000: Cost 3.98e-02  dj_dw: -2.004e-02, dj_db:  3.243e-02   w:  1.997e+02, b: 1.00444e+02\n",
            "Iteration 6000: Cost 9.24e-03  dj_dw: -9.660e-03, dj_db:  1.563e-02   w:  1.999e+02, b: 1.00214e+02\n",
            "Iteration 7000: Cost 2.15e-03  dj_dw: -4.657e-03, dj_db:  7.535e-03   w:  1.999e+02, b: 1.00103e+02\n",
            "Iteration 8000: Cost 4.99e-04  dj_dw: -2.245e-03, dj_db:  3.632e-03   w:  2.000e+02, b: 1.00050e+02\n",
            "Iteration 9000: Cost 1.16e-04  dj_dw: -1.082e-03, dj_db:  1.751e-03   w:  2.000e+02, b: 1.00024e+02\n",
            "(w,b):(199.9929, 100.0116)\n"
          ]
        }
      ]
    },
    {
      "cell_type": "code",
      "source": [
        "fig, (ax1, ax2) = plt.subplots(1, 2, constrained_layout = True, figsize=(12, 4))\n",
        "ax1.plot(J_hist[:100])\n",
        "ax2.plot(1000 + np.arange(len(J_hist[1000:])), J_hist[1000:])\n",
        "ax1.set_title(\"Cost vs Iterations(start)\"); ax2.set_title(\"Cost vs Iterations(end)\")\n",
        "ax1.set_ylabel(\"Cost\");ax2.set_ylabel(\"Cost\")\n",
        "ax1.set_xlabel(\"Iteration\");ax2.set_xlabel(\"Iteration\")\n",
        "plt.show()"
      ],
      "metadata": {
        "colab": {
          "base_uri": "https://localhost:8080/",
          "height": 313
        },
        "id": "OziEHK8-3W7A",
        "outputId": "a09c651d-e146-421b-c766-8bafcfadd968"
      },
      "execution_count": 125,
      "outputs": [
        {
          "output_type": "display_data",
          "data": {
            "text/plain": [
              "<Figure size 864x288 with 2 Axes>"
            ],
            "image/png": "[encoded data removed]"
          },
          "metadata": {
            "needs_background": "light"
          }
        }
      ]
    },
    {
      "cell_type": "code",
      "source": [],
      "metadata": {
        "id": "j_R9jRAj_BKH"
      },
      "execution_count": null,
      "outputs": []
    }
  ]
}